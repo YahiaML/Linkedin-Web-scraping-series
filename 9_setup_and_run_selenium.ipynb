{
  "nbformat": 4,
  "nbformat_minor": 0,
  "metadata": {
    "colab": {
      "provenance": [],
      "authorship_tag": "ABX9TyOVBYEoHOI9n1RiVPihaI81",
      "include_colab_link": true
    },
    "kernelspec": {
      "name": "python3",
      "display_name": "Python 3"
    },
    "language_info": {
      "name": "python"
    }
  },
  "cells": [
    {
      "cell_type": "markdown",
      "metadata": {
        "id": "view-in-github",
        "colab_type": "text"
      },
      "source": [
        "<a href=\"https://colab.research.google.com/github/YahiaML/Linkedin-Web-scraping-series/blob/main/9_setup_and_run_selenium.ipynb\" target=\"_parent\"><img src=\"https://colab.research.google.com/assets/colab-badge.svg\" alt=\"Open In Colab\"/></a>"
      ]
    },
    {
      "cell_type": "markdown",
      "source": [
        "#This script will not work online, you have to download it and use it locally."
      ],
      "metadata": {
        "id": "bHWo1sQW5mFJ"
      }
    },
    {
      "cell_type": "code",
      "execution_count": null,
      "metadata": {
        "id": "ap1N68zapZ3d"
      },
      "outputs": [],
      "source": [
        "# Run this on your local compiler in the first time you want to run selenium\n",
        "!pip install msedge-selenium-tools selenium\n",
        "!pip install msedge-selenium-tools\n",
        "!pip install selenium==3.141.0\n",
        "!pip install --upgrade urllib3==1.26.16"
      ]
    },
    {
      "cell_type": "code",
      "source": [
        "from selenium import webdriver\n",
        "from selenium.webdriver.edge.options import Options\n",
        "from selenium.webdriver.common.by import By\n",
        "from selenium.webdriver.common.keys import Keys\n",
        "from selenium.webdriver.support.ui import Select\n",
        "from selenium.webdriver.support import expected_conditions as EC\n",
        "from selenium.webdriver.support.ui import WebDriverWait\n",
        "from msedge.selenium_tools import Edge, EdgeOptions\n",
        "import selenium.common.exceptions as SE\n",
        "from selenium.common.exceptions import ElementClickInterceptedException\n",
        "from selenium.common.exceptions import StaleElementReferenceException"
      ],
      "metadata": {
        "id": "d4C0wBUOrnav"
      },
      "execution_count": null,
      "outputs": []
    },
    {
      "cell_type": "code",
      "source": [
        "edge_driver_path = r\"D:\\Downloads\\edgedriver_win64\\msedgedriver.exe\"   #<== change this path to the path of msedgedriver.exe on your local computer\n",
        "\n",
        "def Initialize_driver(page_link,edgedriver_path= edge_driver_path):\n",
        "\n",
        "    options = EdgeOptions()\n",
        "    options.add_argument('--headless')\n",
        "\n",
        "    driver = Edge(executable_path= edgedriver_path, options=options)\n",
        "\n",
        "    driver.get(page_link)\n",
        "\n",
        "    return driver\n"
      ],
      "metadata": {
        "id": "jwgEEPa35e4o"
      },
      "execution_count": null,
      "outputs": []
    },
    {
      "cell_type": "code",
      "source": [
        "Initialize_driver(\"https://wellfound.com/jobs\")"
      ],
      "metadata": {
        "id": "0UNws6Tl5glS"
      },
      "execution_count": null,
      "outputs": []
    }
  ]
}