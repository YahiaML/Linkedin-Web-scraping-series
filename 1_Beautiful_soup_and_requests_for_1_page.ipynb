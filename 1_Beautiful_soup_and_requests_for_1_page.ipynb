{
  "nbformat": 4,
  "nbformat_minor": 0,
  "metadata": {
    "colab": {
      "provenance": [],
      "authorship_tag": "ABX9TyMNXly7Xhl3SZvii7kmLJJQ",
      "include_colab_link": true
    },
    "kernelspec": {
      "name": "python3",
      "display_name": "Python 3"
    },
    "language_info": {
      "name": "python"
    }
  },
  "cells": [
    {
      "cell_type": "markdown",
      "metadata": {
        "id": "view-in-github",
        "colab_type": "text"
      },
      "source": [
        "<a href=\"https://colab.research.google.com/github/YahiaML/Linkedin-Web-scraping-series/blob/main/1_Beautiful_soup_and_requests_for_1_page.ipynb\" target=\"_parent\"><img src=\"https://colab.research.google.com/assets/colab-badge.svg\" alt=\"Open In Colab\"/></a>"
      ]
    },
    {
      "cell_type": "code",
      "execution_count": null,
      "metadata": {
        "id": "0Oawicn7GgyH"
      },
      "outputs": [],
      "source": [
        "# Install the required libraries\n",
        "#!pip install requests beautifulsoup4   #<== run this if it's your first time using these libraries\n",
        "\n",
        "from bs4 import BeautifulSoup\n",
        "import requests\n",
        "\n",
        "# Define the URL you want to scrape\n",
        "url = 'https://wuzzuf.net/a/Student-Jobs-in-Egypt?filters%5Bcareer_level%5D%5B0%5D=Student'\n",
        "\n",
        "# Send a request to the server to get the HTML content of the page\n",
        "response = requests.get(url)\n",
        "\n",
        "# Parse the HTML content using BeautifulSoup\n",
        "soup = BeautifulSoup(response.text, 'html.parser')\n",
        "\n",
        "# Display the nicely formatted (prettified) version of the HTML\n",
        "print(soup.prettify())"
      ]
    }
  ]
}