{
  "nbformat": 4,
  "nbformat_minor": 0,
  "metadata": {
    "colab": {
      "provenance": [],
      "authorship_tag": "ABX9TyOGXOf0BgkXNZxDwbfNYLeJ",
      "include_colab_link": true
    },
    "kernelspec": {
      "name": "python3",
      "display_name": "Python 3"
    },
    "language_info": {
      "name": "python"
    }
  },
  "cells": [
    {
      "cell_type": "markdown",
      "metadata": {
        "id": "view-in-github",
        "colab_type": "text"
      },
      "source": [
        "<a href=\"https://colab.research.google.com/github/YahiaML/Linkedin-Web-scraping-series/blob/main/4_Generate_Pages_URLs.ipynb\" target=\"_parent\"><img src=\"https://colab.research.google.com/assets/colab-badge.svg\" alt=\"Open In Colab\"/></a>"
      ]
    },
    {
      "cell_type": "code",
      "execution_count": null,
      "metadata": {
        "id": "eKj2FXT2KLmN"
      },
      "outputs": [],
      "source": [
        "# https://www.bayt.com/en/egypt/jobs/data-analysis-jobs/?page=2\n",
        "# https://www.bayt.com/en/egypt/jobs/data-analysis-jobs/?page=3\n",
        "# https://www.bayt.com/en/egypt/jobs/data-analysis-jobs/?page=4\n",
        "\n",
        "\n",
        "# For this battern we can use that method\n",
        "for page_number in range(34): # <== The maximum number of pages when I created this script was 33, that's why I used range(33+1) = range(34)\n",
        "    print(f\"https://www.bayt.com/en/egypt/jobs/data-analysis-jobs/?page={page_number}\")"
      ]
    },
    {
      "cell_type": "code",
      "source": [
        "# https://www.se.com/eg/en/product-range/1002-compact-ns-630a/?No=12&Nrpp=12#products\n",
        "# https://www.se.com/eg/en/product-range/1002-compact-ns-630a/?No=24&Nrpp=12#products\n",
        "# https://www.se.com/eg/en/product-range/1002-compact-ns-630a/?No=36&Nrpp=12#products\n",
        "\n",
        "\n",
        "# For that pattern we can use 2 methods\n",
        "\n",
        "#First Method\n",
        "print(\"========== First Method ==========\")\n",
        "\n",
        "for page_number in range(0, 145, 12): # <== The number of products when I reated this script was 145\n",
        "    print(f\"https://www.se.com/eg/en/product-range/1002-compact-ns-630a/?No={page_number}&Nrpp=12#products\") #<== explain what I have done\n",
        "\n",
        "\n",
        "# Second Method\n",
        "print()\n",
        "print(\"========== Second Method ==========\")\n",
        "for page_number in range(13): # <== explain what I have done\n",
        "    print(f\"https://www.se.com/eg/en/product-range/1002-compact-ns-630a/?No={page_number*12}&Nrpp=12#products\") #<== explain what I have done"
      ],
      "metadata": {
        "colab": {
          "base_uri": "https://localhost:8080/"
        },
        "id": "nfRzqlzSKUXQ",
        "outputId": "d14e16f8-eb96-490b-e517-04e433fa2163"
      },
      "execution_count": 14,
      "outputs": [
        {
          "output_type": "stream",
          "name": "stdout",
          "text": [
            "========== First Method ==========\n",
            "https://www.se.com/eg/en/product-range/1002-compact-ns-630a/?No=0&Nrpp=12#products\n",
            "https://www.se.com/eg/en/product-range/1002-compact-ns-630a/?No=12&Nrpp=12#products\n",
            "https://www.se.com/eg/en/product-range/1002-compact-ns-630a/?No=24&Nrpp=12#products\n",
            "https://www.se.com/eg/en/product-range/1002-compact-ns-630a/?No=36&Nrpp=12#products\n",
            "https://www.se.com/eg/en/product-range/1002-compact-ns-630a/?No=48&Nrpp=12#products\n",
            "https://www.se.com/eg/en/product-range/1002-compact-ns-630a/?No=60&Nrpp=12#products\n",
            "https://www.se.com/eg/en/product-range/1002-compact-ns-630a/?No=72&Nrpp=12#products\n",
            "https://www.se.com/eg/en/product-range/1002-compact-ns-630a/?No=84&Nrpp=12#products\n",
            "https://www.se.com/eg/en/product-range/1002-compact-ns-630a/?No=96&Nrpp=12#products\n",
            "https://www.se.com/eg/en/product-range/1002-compact-ns-630a/?No=108&Nrpp=12#products\n",
            "https://www.se.com/eg/en/product-range/1002-compact-ns-630a/?No=120&Nrpp=12#products\n",
            "https://www.se.com/eg/en/product-range/1002-compact-ns-630a/?No=132&Nrpp=12#products\n",
            "https://www.se.com/eg/en/product-range/1002-compact-ns-630a/?No=144&Nrpp=12#products\n",
            "\n",
            "========== Second Method ==========\n",
            "https://www.se.com/eg/en/product-range/1002-compact-ns-630a/?No=0&Nrpp=12#products\n",
            "https://www.se.com/eg/en/product-range/1002-compact-ns-630a/?No=12&Nrpp=12#products\n",
            "https://www.se.com/eg/en/product-range/1002-compact-ns-630a/?No=24&Nrpp=12#products\n",
            "https://www.se.com/eg/en/product-range/1002-compact-ns-630a/?No=36&Nrpp=12#products\n",
            "https://www.se.com/eg/en/product-range/1002-compact-ns-630a/?No=48&Nrpp=12#products\n",
            "https://www.se.com/eg/en/product-range/1002-compact-ns-630a/?No=60&Nrpp=12#products\n",
            "https://www.se.com/eg/en/product-range/1002-compact-ns-630a/?No=72&Nrpp=12#products\n",
            "https://www.se.com/eg/en/product-range/1002-compact-ns-630a/?No=84&Nrpp=12#products\n",
            "https://www.se.com/eg/en/product-range/1002-compact-ns-630a/?No=96&Nrpp=12#products\n",
            "https://www.se.com/eg/en/product-range/1002-compact-ns-630a/?No=108&Nrpp=12#products\n",
            "https://www.se.com/eg/en/product-range/1002-compact-ns-630a/?No=120&Nrpp=12#products\n",
            "https://www.se.com/eg/en/product-range/1002-compact-ns-630a/?No=132&Nrpp=12#products\n",
            "https://www.se.com/eg/en/product-range/1002-compact-ns-630a/?No=144&Nrpp=12#products\n"
          ]
        }
      ]
    }
  ]
}