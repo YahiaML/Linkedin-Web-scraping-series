{
  "nbformat": 4,
  "nbformat_minor": 0,
  "metadata": {
    "colab": {
      "provenance": [],
      "authorship_tag": "ABX9TyOUvw4oInnd6hAXNDuBKjt9",
      "include_colab_link": true
    },
    "kernelspec": {
      "name": "python3",
      "display_name": "Python 3"
    },
    "language_info": {
      "name": "python"
    }
  },
  "cells": [
    {
      "cell_type": "markdown",
      "metadata": {
        "id": "view-in-github",
        "colab_type": "text"
      },
      "source": [
        "<a href=\"https://colab.research.google.com/github/YahiaML/Linkedin-Web-scraping-series/blob/main/10_Fake_UserAgsets.ipynb\" target=\"_parent\"><img src=\"https://colab.research.google.com/assets/colab-badge.svg\" alt=\"Open In Colab\"/></a>"
      ]
    },
    {
      "cell_type": "code",
      "execution_count": null,
      "metadata": {
        "id": "E2ks4oEBstGv"
      },
      "outputs": [],
      "source": [
        "#!pip install fake_useragent\n",
        "\n",
        "from selenium import webdriver\n",
        "from selenium.webdriver.edge.options import Options\n",
        "from selenium.webdriver.common.by import By\n",
        "from selenium.webdriver.common.keys import Keys\n",
        "from selenium.webdriver.support.ui import Select\n",
        "from selenium.webdriver.support import expected_conditions as EC\n",
        "from selenium.webdriver.support.ui import WebDriverWait\n",
        "from msedge.selenium_tools import Edge, EdgeOptions\n",
        "import selenium.common.exceptions as SE\n",
        "from selenium.common.exceptions import ElementClickInterceptedException\n",
        "from selenium.common.exceptions import StaleElementReferenceException\n",
        "\n",
        "from fake_useragent import UserAgent\n",
        "from bs4 import BeautifulSoup\n",
        "import requests\n",
        "import pandas as pd\n",
        "import numpy as np"
      ]
    },
    {
      "cell_type": "code",
      "source": [
        "edge_driver_path = r\"D:\\Downloads\\edgedriver_win64\\msedgedriver.exe\"   #<== change this path to the path of msedgedriver.exe on your local computer\n",
        "\n",
        "def Initialize_driver(page_link,edgedriver_path= edge_driver_path):\n",
        "\n",
        "    ua = UserAgent()\n",
        "    userAgent = ua.random\n",
        "\n",
        "    options = EdgeOptions()\n",
        "    options.add_argument('--headless')\n",
        "    options.add_experimental_option('w3c', False)\n",
        "    options.add_argument(f'user-agent={userAgent}')\n",
        "\n",
        "    driver = Edge(executable_path= edgedriver_path, options=options)\n",
        "\n",
        "    driver.get(page_link)\n",
        "\n",
        "    return driver\n"
      ],
      "metadata": {
        "id": "k7qUS1cZt2gT"
      },
      "execution_count": null,
      "outputs": []
    },
    {
      "cell_type": "code",
      "source": [
        "driver = Initialize_driver(f\"https://aqarmap.com.eg/ar/for-sale/apartment/?page={i}\")\n",
        "soup = BeautifulSoup(driver.page_source, 'html.parser')"
      ],
      "metadata": {
        "id": "9l1_NJtet2ro"
      },
      "execution_count": null,
      "outputs": []
    }
  ]
}